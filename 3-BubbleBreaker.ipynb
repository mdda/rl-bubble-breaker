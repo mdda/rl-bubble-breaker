{
 "cells": [
  {
   "cell_type": "markdown",
   "metadata": {
    "collapsed": false
   },
   "source": [
    "## Bubble Breaker in Python / Javascript\n",
    "\n",
    "The key 'board' data structure is a ```numpy``` array, which is (for efficiency) stored on its side (with the bottom-right phone cell being the board[0,0] cell):"
   ]
  },
  {
   "cell_type": "code",
   "execution_count": null,
   "metadata": {
    "collapsed": true
   },
   "outputs": [],
   "source": [
    "import os\n",
    "import numpy as np\n",
    "\n",
    "import shutil, requests\n",
    "import pickle"
   ]
  },
  {
   "cell_type": "markdown",
   "metadata": {},
   "source": [
    "#### Load Game Mechanics / UI code"
   ]
  },
  {
   "cell_type": "code",
   "execution_count": null,
   "metadata": {
    "collapsed": false
   },
   "outputs": [],
   "source": [
    "models_dir = './models/game'\n",
    "rcl_base_dir = 'http://redcatlabs.com/downloads/deep-learning-workshop/notebooks/models/game/'\n",
    "\n",
    "if not os.path.exists(models_dir):\n",
    "    os.makedirs(models_dir)\n",
    "for py in ['__init__.py', 'crush.py', 'crush_ui.py']:\n",
    "    py_path = os.path.join(models_dir, py)\n",
    "    if not os.path.isfile( py_path ):\n",
    "        print(\"Downloading %s\" % (py_path,))\n",
    "        response = requests.get(rcl_base_dir+py, stream=True)\n",
    "        with open(py_path, 'wb') as out_file:\n",
    "            shutil.copyfileobj(response.raw, out_file)\n",
    "print(\"Model mechanics code available locally\")"
   ]
  },
  {
   "cell_type": "code",
   "execution_count": null,
   "metadata": {
    "collapsed": false
   },
   "outputs": [],
   "source": [
    "from models.game import crush\n",
    "from models.game import crush_ui\n",
    "\n",
    "# These are pure numpy (no fancy code - just the game mechanics/UI)\n",
    "import importlib\n",
    "importlib.reload(crush)\n",
    "importlib.reload(crush_ui);"
   ]
  },
  {
   "cell_type": "markdown",
   "metadata": {},
   "source": [
    "#### Create a sample (numeric) board"
   ]
  },
  {
   "cell_type": "code",
   "execution_count": null,
   "metadata": {
    "collapsed": false,
    "scrolled": true
   },
   "outputs": [],
   "source": [
    "crush.new_board(10, 14, n_colours=5)"
   ]
  },
  {
   "cell_type": "markdown",
   "metadata": {},
   "source": [
    "Key trick for this notebook is the ability for Jupyter to go 'round-trip' from Python back-end to Javascript in the browser, and back again.  There's a block of helper javascript in the (Python) file ```crush-ui```:\n"
   ]
  },
  {
   "cell_type": "code",
   "execution_count": null,
   "metadata": {
    "collapsed": false,
    "scrolled": true
   },
   "outputs": [],
   "source": [
    "from IPython.display import HTML\n",
    "\n",
    "#HTML(crush_ui.javascript_test)\n",
    "HTML(crush_ui.javascript_base+'<code>Javascript Loaded</code>')"
   ]
  },
  {
   "cell_type": "markdown",
   "metadata": {},
   "source": [
    "Having imported that base code, we can now create UI elements for javascript to manipulate :"
   ]
  },
  {
   "cell_type": "code",
   "execution_count": null,
   "metadata": {
    "collapsed": false,
    "scrolled": true
   },
   "outputs": [],
   "source": [
    "javascript = \"\"\"\n",
    "<div id=\"board_10_14_playme\"></div>\n",
    "<script type=\"text/Javascript\">create_board(\"#board_10_14_playme\",10,14,5,'board_playme');</script>\n",
    "\"\"\"\n",
    "HTML(javascript)"
   ]
  },
  {
   "cell_type": "markdown",
   "metadata": {},
   "source": [
    "And, now initialise a board and display it:"
   ]
  },
  {
   "cell_type": "code",
   "execution_count": null,
   "metadata": {
    "collapsed": false,
    "scrolled": true
   },
   "outputs": [],
   "source": [
    "board_playme = crush.new_board(10, 14, n_colours=5)\n",
    "HTML(crush_ui.display_via_javascript_script(\"#board_10_14_playme\", board_playme))"
   ]
  },
  {
   "cell_type": "markdown",
   "metadata": {},
   "source": [
    "But - because of the Python-javascript-Python roundtripping - you can now play the game (click on linked cells)!\n",
    "\n",
    "Once you run out of moves to do, the game is over.  You can restart it by refreshing the board generation cell above."
   ]
  },
  {
   "cell_type": "markdown",
   "metadata": {},
   "source": [
    "## Smaller Board (for training NOW)"
   ]
  },
  {
   "cell_type": "code",
   "execution_count": null,
   "metadata": {
    "collapsed": true
   },
   "outputs": [],
   "source": [
    "class board_param_set:\n",
    "    def __init__(self, width, height, n_colours):\n",
    "        self.width, self.height, self.n_colours = width, height, n_colours"
   ]
  },
  {
   "cell_type": "code",
   "execution_count": null,
   "metadata": {
    "collapsed": false,
    "scrolled": false
   },
   "outputs": [],
   "source": [
    "p_small = board_param_set(5,8,4)\n",
    "javascript = \"\"\"\n",
    "<div id=\"board_small_playme\"></div>\n",
    "<script type=\"text/Javascript\">create_board(\"#board_small_playme\",%d,%d,%d, 'board_small');</script>\n",
    "\"\"\" % (p_small.width, p_small.height, p_small.n_colours)\n",
    "HTML(javascript)"
   ]
  },
  {
   "cell_type": "code",
   "execution_count": null,
   "metadata": {
    "collapsed": false,
    "scrolled": true
   },
   "outputs": [],
   "source": [
    "board_small = crush.new_board(p_small.width, p_small.height, p_small.n_colours)\n",
    "HTML(crush_ui.display_via_javascript_script(\"#board_small_playme\", board_small))"
   ]
  },
  {
   "cell_type": "markdown",
   "metadata": {},
   "source": [
    "Now, there's quite a lot of machinery required to do Q() learning.  So we'll take it one step at a time."
   ]
  },
  {
   "cell_type": "markdown",
   "metadata": {},
   "source": [
    "### Convert a Board to Features"
   ]
  },
  {
   "cell_type": "code",
   "execution_count": null,
   "metadata": {
    "collapsed": true
   },
   "outputs": [],
   "source": [
    "def make_features_in_layers(board):\n",
    "  feature_layers = [] # These are effectively 'colours' for the CNN\n",
    "  \n",
    "  mask     = np.greater( board[:, :], 0 )*1.\n",
    "  feature_layers.append( mask.astype('float32') )\n",
    "  \n",
    "  # This works out whether each cell is the same as the cell 'above it'\n",
    "  for shift_down in [1,2,3,4,5,]:\n",
    "    sameness = np.zeros_like(board, dtype='float32')\n",
    "    sameness[:,:-shift_down] = np.equal( board[:, :-shift_down], board[:, shift_down:] )*1.\n",
    "    feature_layers.append( sameness )\n",
    "  \n",
    "  # This works out whether each cell is the same as the cell in to columns 'to the left of it'\n",
    "  for shift_right in [1,2,3,]:\n",
    "    sameness = np.zeros_like(board, dtype='float32')\n",
    "    sameness[:-shift_right,:] = np.equal( board[:-shift_right, :], board[shift_right:, :] )*1.\n",
    "    feature_layers.append( sameness )\n",
    "  \n",
    "  stacked = np.dstack( feature_layers )\n",
    "    \n",
    "  #  Return a single feature map stack ~ (input channels, input rows, input columns)\n",
    "  #  == Theano order (need to cope with this ordering in TensorFlow, since it is 'unnatural' there)\n",
    "  return np.rollaxis( stacked, 2, 0 )"
   ]
  },
  {
   "cell_type": "code",
   "execution_count": null,
   "metadata": {
    "collapsed": false,
    "scrolled": true
   },
   "outputs": [],
   "source": [
    "features_shape_small = make_features_in_layers(board_small).shape\n",
    "print(\"('feature layers', width, height) : %s\" % (features_shape_small, ))"
   ]
  },
  {
   "cell_type": "markdown",
   "metadata": {},
   "source": [
    "### Build the Model to Evaluate the Board's Features"
   ]
  },
  {
   "cell_type": "code",
   "execution_count": null,
   "metadata": {
    "collapsed": false
   },
   "outputs": [],
   "source": [
    "# Execute for Theano / Lasagne version\n",
    "raise Exception('Use the TensorFlow version!')\n",
    "\n",
    "import theano\n",
    "import lasagne\n",
    "\n",
    "def build_cnn_theano_lasagne(input_var, features_shape):\n",
    "    # Create a CNN of two convolution layers and \n",
    "    #   a fully-connected hidden layer in front of the output 'action score' layer\n",
    "    \n",
    "    lasagne.random.set_rng( np.random )\n",
    "\n",
    "    # input layer\n",
    "    network = lasagne.layers.InputLayer(\n",
    "        shape=(None, features_shape[0], features_shape[1], features_shape[2]), \n",
    "        input_var=input_var)\n",
    "\n",
    "    # Two convolutional layers (no dropout, no pooling)\n",
    "    network = lasagne.layers.Conv2DLayer(\n",
    "      network, num_filters=32, filter_size=(3,3),\n",
    "      nonlinearity=lasagne.nonlinearities.rectify,\n",
    "      W=lasagne.init.GlorotUniform(),\n",
    "    )\n",
    "    \n",
    "    network = lasagne.layers.Conv2DLayer(\n",
    "      network, num_filters=16, filter_size=(3,3),\n",
    "      nonlinearity=lasagne.nonlinearities.rectify,\n",
    "    )\n",
    "\n",
    "    # Two fully-connected layers - leading to ONE output value : the Q(features(board))\n",
    "    network = lasagne.layers.DenseLayer(\n",
    "      network, num_units=32,\n",
    "      nonlinearity=lasagne.nonlinearities.rectify,\n",
    "    )\n",
    "\n",
    "    network = lasagne.layers.DenseLayer(\n",
    "      network, num_units=1,\n",
    "      nonlinearity=lasagne.nonlinearities.linear,\n",
    "    )\n",
    "\n",
    "    return network\n",
    "\n",
    "\n",
    "class rl_model_theano_lasagne:\n",
    "  is_tensorflow=False\n",
    "  def __init__(self, features_shape):\n",
    "    board_input = theano.tensor.tensor4('inputs')\n",
    "    board_score = theano.tensor.vector('targets')\n",
    "\n",
    "    np.random.seed(0) # This is for the initialisation inside the CNN\n",
    "    cnn = build_cnn_theano_lasagne(board_input, features_shape)\n",
    "    self.network = cnn\n",
    "    \n",
    "    # This is for running the model (training, etc)\n",
    "    estimate_q_value = lasagne.layers.get_output(cnn)  # 'running'\n",
    "    self.evaluate_features = theano.function([board_input], estimate_q_value)\n",
    "\n",
    "    # This is for repeatedly testing the model (deterministic)\n",
    "    predict_q_value  = lasagne.layers.get_output(cnn, deterministic=True)\n",
    "    self.evaluate_features_deterministic = theano.function([board_input], predict_q_value)\n",
    "\n",
    "    # This is used for training\n",
    "    mse = lasagne.objectives.squared_error( estimate_q_value.reshape( (-1,) ), board_score).mean()\n",
    "\n",
    "    params = lasagne.layers.get_all_params(cnn, trainable=True)\n",
    "\n",
    "    #updates = lasagne.updates.nesterov_momentum( mse, params, learning_rate=0.01, momentum=0.9 )\n",
    "    updates = lasagne.updates.adam( mse, params )\n",
    "    #updates = lasagne.updates.rmsprop( mse, params ) \n",
    "\n",
    "    self.train = theano.function([board_input, board_score], mse, updates=updates)\n",
    "\n",
    "  def explain(self):\n",
    "    res, params=[], 0\n",
    "    for i, l in enumerate( lasagne.layers.get_all_layers(self.network) ):\n",
    "        params, params_before = lasagne.layers.count_params(l), params\n",
    "        res.append( \"Layer %2d : %6d params in %s\" % (i, params-params_before, type(l),) )\n",
    "    return res\n",
    "\n",
    "  def get_param_values(self):\n",
    "    return lasagne.layers.get_all_param_values(self.network)\n",
    "  \n",
    "  def set_param_values(self, params):\n",
    "    lasagne.layers.set_all_param_values(self.network, params)\n",
    "    \n",
    "rl_model = rl_model_theano_lasagne"
   ]
  },
  {
   "cell_type": "code",
   "execution_count": null,
   "metadata": {
    "collapsed": false
   },
   "outputs": [],
   "source": [
    "# Execute for Tensorflow / Keras version\n",
    "#raise Exception('Use the Theano/Lasagne version!')\n",
    "\n",
    "import tensorflow as tf\n",
    "import tensorflow.contrib.keras as keras\n",
    "\n",
    "from tensorflow.contrib.keras.api.keras import backend as K\n",
    "from tensorflow.contrib.keras.api.keras.layers import Input, Permute, Conv2D, Flatten, Dense \n",
    "from tensorflow.contrib.keras.api.keras.models import Model\n",
    "\n",
    "def build_cnn_tf_keras(input_var):  #, features_shape\n",
    "    # Create a CNN of two convolution layers and \n",
    "    #   a fully-connected hidden layer in front of the output 'action score' layer\n",
    "    \n",
    "    # Fix up the board_features being created in Theano ordering...\n",
    "    #K.set_image_data_format('channels_first')\n",
    "    x = Permute( (2,3,1) )(input_var)  # Probably more efficient to fix up instead\n",
    "    \n",
    "    # Two convolutional layers (no dropout, no pooling, getting smaller)\n",
    "    x = Conv2D(32, (3,3), strides=(1, 1), padding='valid', use_bias=True, activation=K.relu)(x)\n",
    "    x = Conv2D(16, (3,3), strides=(1, 1), padding='valid', use_bias=True, activation=K.relu)(x)\n",
    "\n",
    "    x = Flatten()(x)\n",
    "\n",
    "    # Two fully-connected layers - leading to ONE output value : the Q(features(board))\n",
    "    x = Dense(32, activation=K.relu)(x)\n",
    "    x = Dense(1)(x)  # ,  activation=K.linear\n",
    "\n",
    "    return x\n",
    "\n",
    "\n",
    "class rl_model_tf_keras:\n",
    "  is_tensorflow=True\n",
    "  def __init__(self, features_shape):\n",
    "    board_input = Input(shape=(features_shape[0], features_shape[1], features_shape[2]), \n",
    "                        name=\"board_features\")\n",
    "\n",
    "    np.random.seed(0) # This is for the initialisation inside the CNN\n",
    "    board_score = build_cnn_tf_keras(board_input)\n",
    "    \n",
    "    # https://keras.io/getting-started/faq/#how-can-i-obtain-the-output-of-an-intermediate-layer\n",
    "    self.get_q_value = K.function([board_input, K.learning_phase()], [board_score])\n",
    "    \n",
    "    # This is used for training\n",
    "    model = Model(inputs=board_input, outputs=board_score)\n",
    "\n",
    "    #opt = keras.optimizers.SGD(lr=0.01, decay=1e-6, momentum=0.9, nesterov=True)\n",
    "    #opt = keras.optimizers.Adam()\n",
    "    opt = keras.optimizers.RMSprop()\n",
    "    \n",
    "    model.compile(opt,'mean_squared_error') \n",
    "    self.model = model\n",
    "\n",
    "  def evaluate_features(self, board_features_batch): # run the model (during training, etc)\n",
    "    # This would be helpful :: https://github.com/fchollet/keras/issues/3072\n",
    "    return self.get_q_value([board_features_batch, 1])[0]  # training-mode=1\n",
    "\n",
    "  def evaluate_features_deterministic(self, board_features_batch): # testing the model (deterministic)\n",
    "    return self.model.predict(x=board_features_batch)\n",
    "\n",
    "  def train(self, boards, targets):\n",
    "    hist = self.model.fit( x=np.array(boards), y=np.array(targets), \n",
    "                           batch_size=len(boards), verbose=0)\n",
    "    #print(hist.history.keys())\n",
    "    #print(hist.history['loss'])\n",
    "    return hist.history['loss'][0]  # want MSE as a scalar\n",
    "\n",
    "  def explain(self): return self.model.summary()\n",
    "    \n",
    "  def get_param_values(self):\n",
    "    return [ layer.get_weights() for layer in self.model.layers ]\n",
    "  \n",
    "  def set_param_values(self, params):\n",
    "    for i, layer in enumerate(self.model.layers):\n",
    "        layer.set_weights(params[i])\n",
    "\n",
    "rl_model = rl_model_tf_keras"
   ]
  },
  {
   "cell_type": "markdown",
   "metadata": {},
   "source": [
    "#### Quick tests of functionality"
   ]
  },
  {
   "cell_type": "code",
   "execution_count": null,
   "metadata": {
    "collapsed": false,
    "scrolled": false
   },
   "outputs": [],
   "source": [
    "model_small = rl_model(features_shape_small)\n",
    "model_small.explain()"
   ]
  },
  {
   "cell_type": "code",
   "execution_count": null,
   "metadata": {
    "collapsed": true
   },
   "outputs": [],
   "source": [
    "b = crush.new_board(p_small.width, p_small.height, p_small.n_colours) "
   ]
  },
  {
   "cell_type": "code",
   "execution_count": null,
   "metadata": {
    "collapsed": false
   },
   "outputs": [],
   "source": [
    "f = make_features_in_layers(b)\n",
    "f_arr = np.array( [f,10*f,f] )\n",
    "#print(model_small.evaluate_features_deterministic( f_arr ))\n",
    "print(model_small.evaluate_features( f_arr ))"
   ]
  },
  {
   "cell_type": "code",
   "execution_count": null,
   "metadata": {
    "collapsed": false
   },
   "outputs": [],
   "source": [
    "#model_small.model.fit( x=np.array([f]), y=np.array([5.]), batch_size=1)\n",
    "model_small.train( [f], [5.] )"
   ]
  },
  {
   "cell_type": "markdown",
   "metadata": {},
   "source": [
    "### Logic to run 1 game\n",
    "\n",
    "And a 'test()' function that can evaluate the current network, by running a set of 10 fixed games deterministically."
   ]
  },
  {
   "cell_type": "code",
   "execution_count": null,
   "metadata": {
    "collapsed": true
   },
   "outputs": [],
   "source": [
    "def play_game(game_id, model, board_params, \n",
    "              per_step_discount_factor=0.95, prob_exploration=0.1, capture_game=None):\n",
    "  training_data = dict( board=[], target=[] )\n",
    "  \n",
    "  np.random.seed(game_id)\n",
    "  board = crush.new_board(board_params.width, board_params.height, board_params.n_colours) \n",
    "\n",
    "  score_total, new_cols_total, moves_total, game_step = 0,0,0,0\n",
    "  while True: \n",
    "    if capture_game:\n",
    "      capture_game(board, score_total)\n",
    "\n",
    "    moves = crush.potential_moves(board)\n",
    "    moves_total += len(moves)\n",
    "    \n",
    "    if len(moves)==0:\n",
    "      # Need to add a training example : This is a zero-score outcome\n",
    "      training_data['board'].append( make_features_in_layers(board) )\n",
    "      training_data['target'].append( 0. )\n",
    "      \n",
    "      break\n",
    "\n",
    "    # Let's find the highest-scoring of those moves:  First, get all the features\n",
    "    next_step_features = []\n",
    "    next_step_target = []\n",
    "    for (h,v) in moves:  # [0:2]\n",
    "      b, score, n_cols = crush.after_move(board, h,v, -1)  # Added columns are unknown\n",
    "      \n",
    "      next_step_features.append( make_features_in_layers(b) )\n",
    "      #next_step_target.append( score )\n",
    "      next_step_target.append( n_cols )\n",
    "      \n",
    "    # Now evaluate the Q() values of the resulting postion for each possible move in one go\n",
    "    all_features = np.array(next_step_features)  # , dtype='float32'\n",
    "    #print(\"all_features.shape\", all_features.shape ) \n",
    "    \n",
    "    remember_training, next_mv = False, -1\n",
    "    \n",
    "    if prob_exploration<0:  # This is testing only - just need to pick the best move\n",
    "      next_step_q = model.evaluate_features_deterministic( all_features )\n",
    "    else:\n",
    "      if np.random.uniform(0.0, 1.0)<prob_exploration:\n",
    "        ## Choose a random move, and do it\n",
    "        next_mv = np.random.randint( len(moves) )\n",
    "      else:\n",
    "        next_step_q = model.evaluate_features( all_features )\n",
    "        remember_training=True\n",
    "\n",
    "    if next_mv<0:\n",
    "      next_step_aggregate = ( np.array( next_step_target, dtype='float32') + \n",
    "                              per_step_discount_factor * next_step_q.flatten() )\n",
    "      next_mv = np.argmax( next_step_aggregate )\n",
    "    \n",
    "    (h,v) = moves[next_mv]\n",
    "    \n",
    "    #print(\"Move : (%2d,%2d)\" % (h,v))\n",
    "    #crush.show_board(board, highlight=(h,v))\n",
    "    \n",
    "    if remember_training:  # Only collect training data if not testing\n",
    "      training_data['board'].append( make_features_in_layers(board) )\n",
    "      # This value includes a Q() that looks at the 'blank cols', rather than the actuals\n",
    "      training_data['target'].append( next_step_aggregate[next_mv] )   \n",
    "    \n",
    "    board, score, new_cols = crush.after_move(board, h,v, board_params.n_colours)  # Now we do the move 'for real'\n",
    "    \n",
    "    score_total += score\n",
    "    new_cols_total += new_cols\n",
    "    \n",
    "    #print(\"Move[%2d]=(%2d,%2d) -> Score : %3d, new_cols=%1d\" % (i, h,v, score,new_cols))\n",
    "    #crush.show_board(board, highlight=(0,0))\n",
    "\n",
    "    game_step += 1\n",
    "    \n",
    "  stats=dict( \n",
    "    steps=game_step, av_potential_moves=float(moves_total) / game_step, \n",
    "    score=score_total, new_cols=new_cols_total \n",
    "  )\n",
    "  return stats, training_data\n",
    "\n",
    "def stats_aggregates(log, prefix, last=None):\n",
    "  stats_cols = \"steps av_potential_moves new_cols score model_err\".split()\n",
    "  if last:\n",
    "    stats_overall = np.array([ [s[c] for c in stats_cols] for s in log[-last:] ])\n",
    "  else:\n",
    "    stats_overall = np.array([ [s[c] for c in stats_cols] for s in log ])\n",
    "\n",
    "  print()\n",
    "  print(prefix + \"   #steps   #moves_av  new_cols   score  model_err\")\n",
    "  print(\"     Min  : \", [\"%6.1f\" % (v,) for v in np.min(stats_overall, axis=0).tolist()] )\n",
    "  print(\"     Max  : \", [\"%6.1f\" % (v,) for v in np.max(stats_overall, axis=0).tolist()] )\n",
    "  print(\"     Mean : \", [\"%6.1f\" % (v,) for v in np.mean(stats_overall, axis=0).tolist()] )\n",
    "  print()\n",
    "  \n",
    "def run_test(i, model, board_params):\n",
    "  # Run a test set of 10 games (not in training examples)\n",
    "  stats_test_log=[]\n",
    "  for j in range(0,10):\n",
    "    stats_test, _ = play_game(1000*1000*1000+j, model, board_params, prob_exploration=-1.0)  \n",
    "    stats_test['model_err'] = -999.\n",
    "    stats_test_log.append( stats_test )\n",
    "  stats_aggregates(stats_test_log, \"=Test[%5d]\" % (i,))\n",
    "  return stats_test_log"
   ]
  },
  {
   "cell_type": "code",
   "execution_count": null,
   "metadata": {
    "collapsed": false,
    "scrolled": true
   },
   "outputs": [],
   "source": [
    "# Initial run, testing the score of an untrained SMALL network\n",
    "_ = run_test(0, model_small, p_small)"
   ]
  },
  {
   "cell_type": "markdown",
   "metadata": {},
   "source": [
    "### Ready to Train the Network..."
   ]
  },
  {
   "cell_type": "code",
   "execution_count": null,
   "metadata": {
    "collapsed": true
   },
   "outputs": [],
   "source": [
    "model, board_params = model_small, p_small\n",
    "model, board_params = model_trained, p_trained"
   ]
  },
  {
   "cell_type": "code",
   "execution_count": null,
   "metadata": {
    "collapsed": true
   },
   "outputs": [],
   "source": [
    "import datetime\n",
    "t0,i0 = datetime.datetime.now(),0\n",
    "t_start=t0\n",
    "\n",
    "stats_log=[]\n",
    "training_data=dict( board=[], target=[])"
   ]
  },
  {
   "cell_type": "code",
   "execution_count": null,
   "metadata": {
    "collapsed": false
   },
   "outputs": [],
   "source": [
    "stats_log_test = run_test(0, model, board_params)"
   ]
  },
  {
   "cell_type": "code",
   "execution_count": null,
   "metadata": {
    "collapsed": false,
    "scrolled": false
   },
   "outputs": [],
   "source": [
    "n_games, test_every = 20*1000, 1000\n",
    "#n_games, test_every = 1*1000, 100\n",
    "batchsize=512\n",
    "\n",
    "for i in range(0, n_games):\n",
    "  # PLAY the game with seed==i\n",
    "  stats, training_data_new = play_game(i, model, board_params)\n",
    "  \n",
    "  if False:\n",
    "    print(\"game[%d]\" % (i,))\n",
    "    print(\"  steps         = %d\" % (stats['steps'],))\n",
    "    print(\"  average moves = %5.1f\" % (stats['av_potential_moves'], ) )\n",
    "    print(\"  new_cols      = %d\" % (stats['new_cols'],))\n",
    "    print(\"  score_total   = %d\" % (stats['score'],))\n",
    "  \n",
    "  training_data['board'] += training_data_new['board']\n",
    "  training_data['target'] += training_data_new['target']\n",
    "\n",
    "  # This keeps the window from growing too big\n",
    "  if len(training_data['target'])>batchsize*2:\n",
    "    training_data['board'] = training_data['board'][-batchsize:]\n",
    "    training_data['target'] = training_data['target'][-batchsize:]\n",
    "\n",
    "  for iter in range(0,1):\n",
    "    err = model.train( training_data['board'][-batchsize:], training_data['target'][-batchsize:] )\n",
    "  \n",
    "  stats['model_err'] = err\n",
    "  \n",
    "  stats_log.append( stats )\n",
    "  \n",
    "  if ((i+1) % (test_every/5))==0:\n",
    "    t_now = datetime.datetime.now()\n",
    "    t_elapsed = (t_now - t0).total_seconds()\n",
    "    t_end_projected = t0 + datetime.timedelta( seconds=(n_games-i0) * (t_elapsed/(i-i0)) )\n",
    "    print(\"    Time(1000 games)~%.0fsec.  Will end in ~%.0f sec (~ %s), stored_data.length=%d\" % \n",
    "           (1000.*t_elapsed/(i-i0), ((n_games-i))*t_elapsed/(i-i0), \n",
    "           t_end_projected.strftime(\"%H:%M\"), len(training_data['target']), ))\n",
    "    t0, i0 = datetime.datetime.now(), i\n",
    "    \n",
    "  #if ((i+1) % test_every)==0:\n",
    "  #  stats_aggregates(stats_log, \"Train[%5d]\" % (i,), last=1000)\n",
    "\n",
    "  if ((i+1) % test_every)==0:\n",
    "    stats_log_test.extend( run_test(i, model, board_params) )\n",
    "\n",
    "stats_aggregates(stats_log, \"FINAL[%5d]\" % (n_games,) )"
   ]
  },
  {
   "cell_type": "markdown",
   "metadata": {},
   "source": [
    "### Draw Graph of Training Process"
   ]
  },
  {
   "cell_type": "code",
   "execution_count": null,
   "metadata": {
    "collapsed": false
   },
   "outputs": [],
   "source": [
    "%matplotlib inline\n",
    "import matplotlib.pyplot as plt\n",
    "\n",
    "for c in ['new_cols', 'score']:  # \"steps av_potential_moves new_cols score model_err\"\n",
    "    plt.figure(figsize=(6, 4))\n",
    "    for log in [ stats_log_test ]:  #[stats_log, stats_log_test]:\n",
    "        t = np.arange(0.0, len(stats_log), len(stats_log) / len(log))\n",
    "        v = np.log( [ l[c]+1. for l in log ] ) \n",
    "        plt.ylabel('log( '+c+' )', fontsize=16)\n",
    "        plt.plot(t, v)\n",
    "        plt.plot(t, np.poly1d( np.polyfit(t, v, 1) )(t))\n",
    "        plt.grid(b=True, which='major', color='b', axis='y', linestyle='-')\n",
    "    plt.show()"
   ]
  },
  {
   "cell_type": "markdown",
   "metadata": {},
   "source": [
    "### Using the model - let's see how it plays"
   ]
  },
  {
   "cell_type": "code",
   "execution_count": null,
   "metadata": {
    "collapsed": false,
    "scrolled": true
   },
   "outputs": [],
   "source": [
    "javascript = \"\"\"\n",
    "<div id=\"board_small_watch\"></div>\n",
    "<script type=\"text/Javascript\">create_board(\"#board_small_watch\",%d,%d,%d,'board_small');</script>\n",
    "\"\"\" % (p_small.width, p_small.height, p_small.n_colours)\n",
    "HTML(javascript)"
   ]
  },
  {
   "cell_type": "code",
   "execution_count": null,
   "metadata": {
    "collapsed": false,
    "scrolled": true
   },
   "outputs": [],
   "source": [
    "seed = 1\n",
    "board = crush.new_board(p_small.width, p_small.height, p_small.n_colours)\n",
    "boards_for_game, scores_for_game=[],[]\n",
    "def capture_game(b,s): boards_for_game.append(b);scores_for_game.append(s)\n",
    "stats, _ = play_game(seed, model_small, p_small, capture_game=capture_game)\n",
    "HTML( crush_ui.display_gameplay(\"#board_small_watch\", boards_for_game, scores_for_game, 0.1) )"
   ]
  },
  {
   "cell_type": "markdown",
   "metadata": {},
   "source": [
    "### Save model parameters"
   ]
  },
  {
   "cell_type": "code",
   "execution_count": null,
   "metadata": {
    "collapsed": true
   },
   "outputs": [],
   "source": [
    "model_save, p_save = model_small, p_small\n",
    "model_save, p_save = model_trained, p_trained"
   ]
  },
  {
   "cell_type": "code",
   "execution_count": null,
   "metadata": {
    "collapsed": false
   },
   "outputs": [],
   "source": [
    "if True or False:\n",
    "  param_dictionary = dict(\n",
    "    param_values = model_save.get_param_values(),\n",
    "    width=p_save.width, height=p_save.height, n_colours=p_save.n_colours,\n",
    "    batchsize=batchsize, \n",
    "    i=i, )\n",
    "  with open('./data/game/crush/rl_%dx%dx%d_%s.%06d.pkl' % (\n",
    "        p_save.width, p_save.height, p_save.n_colours, \n",
    "        t_start.strftime(\"%Y-%m-%d_%H-%M\"), i,), 'wb') as f:\n",
    "    pickle.dump(param_dictionary, f)"
   ]
  },
  {
   "cell_type": "markdown",
   "metadata": {},
   "source": [
    "## Now for a Full-Sized Version\n",
    "The GPU speed-up factor isn't very large here (2-3x), since a lot of the training time is spent in the Python game-play and feature generation code.  Moreover, the network isn't very large, so the GPU speed is dominated by PCI transfer times.\n",
    "\n",
    "*  The Theano/Lasagne version was trained in ~5 hours using a Titan X GPU.  \n",
    "*  The TensorFlow/Keras version took about 12 hours using a decent i7 CPU."
   ]
  },
  {
   "cell_type": "markdown",
   "metadata": {},
   "source": [
    "### Loading the pre-trained model"
   ]
  },
  {
   "cell_type": "code",
   "execution_count": null,
   "metadata": {
    "collapsed": false
   },
   "outputs": [],
   "source": [
    "param_dictionary=dict(width=10, height=14, n_colours=5)\n",
    "if rl_model.is_tensorflow:\n",
    "    print(\"Loading a TensorFlow/Keras Model\")\n",
    "    with open('./data/game/crush/rl_10x14x5_2017-05-17_16-05.019999.pkl', 'rb') as f:\n",
    "      param_dictionary=pickle.load(f, encoding='iso-8859-1')\n",
    "else:\n",
    "    print(\"Loading a Theano/Lasagne Model\")\n",
    "    with open('./data/game/crush/rl_10x14x5_2016-06-21_03-27.049999.pkl', 'rb') as f:\n",
    "      param_dictionary=pickle.load(f, encoding='iso-8859-1')\n",
    "\n",
    "width, height, n_colours = ( param_dictionary[k] for k in 'width height n_colours'.split() ) \n",
    "p_trained = board_param_set( width, height, n_colours )\n",
    "board_trained = crush.new_board(p_trained.width, p_trained.height, n_colours=p_trained.n_colours)\n",
    "\n",
    "features_shape_trained = make_features_in_layers(board_trained).shape\n",
    "print(\"('feature layers', width, height) : %s\" %(features_shape_trained, ))\n",
    "\n",
    "model_trained = rl_model( features_shape_trained )"
   ]
  },
  {
   "cell_type": "code",
   "execution_count": null,
   "metadata": {
    "collapsed": false
   },
   "outputs": [],
   "source": [
    "model_trained.explain()"
   ]
  },
  {
   "cell_type": "code",
   "execution_count": null,
   "metadata": {
    "collapsed": false,
    "scrolled": true
   },
   "outputs": [],
   "source": [
    "model_trained.set_param_values( param_dictionary['param_values'] )"
   ]
  },
  {
   "cell_type": "markdown",
   "metadata": {},
   "source": [
    "### Running the Pre-Trained model"
   ]
  },
  {
   "cell_type": "code",
   "execution_count": null,
   "metadata": {
    "collapsed": false,
    "scrolled": true
   },
   "outputs": [],
   "source": [
    "javascript = \"\"\"\n",
    "<div id=\"board_10_14_trained\"></div>\n",
    "<script type=\"text/Javascript\">\n",
    "create_board(\"#board_10_14_trained\",%d,%d,%d, 'board_trained');\n",
    "</script>\n",
    "\"\"\" % (p_trained.width, p_trained.height, p_trained.n_colours)\n",
    "HTML(javascript)"
   ]
  },
  {
   "cell_type": "code",
   "execution_count": null,
   "metadata": {
    "collapsed": false,
    "scrolled": true
   },
   "outputs": [],
   "source": [
    "seed = 51\n",
    "board_trained = crush.new_board(width, height, n_colours=n_colours)\n",
    "boards_for_game, scores_for_game=[],[]\n",
    "def capture_game(b,s): boards_for_game.append(b);scores_for_game.append(s)\n",
    "stats, _ = play_game(seed, model_trained, p_trained, capture_game=capture_game)\n",
    "HTML( crush_ui.display_gameplay(\"#board_10_14_trained\", boards_for_game, scores_for_game, 0.1) )"
   ]
  },
  {
   "cell_type": "markdown",
   "metadata": {
    "collapsed": true,
    "scrolled": true
   },
   "source": [
    "## Exercises\n",
    "\n",
    "1.  The above uses the number of columns removed as its reward function.  Why not use 'score' instead?\n",
    "2.  Try a larger feature space\n",
    "3.  Play the game manually, and see what the machine play can tell you about tactics..."
   ]
  },
  {
   "cell_type": "code",
   "execution_count": null,
   "metadata": {
    "collapsed": true
   },
   "outputs": [],
   "source": []
  }
 ],
 "metadata": {
  "kernelspec": {
   "display_name": "Python 3",
   "language": "python",
   "name": "python3"
  },
  "language_info": {
   "codemirror_mode": {
    "name": "ipython",
    "version": 3
   },
   "file_extension": ".py",
   "mimetype": "text/x-python",
   "name": "python",
   "nbconvert_exporter": "python",
   "pygments_lexer": "ipython3",
   "version": "3.5.3"
  }
 },
 "nbformat": 4,
 "nbformat_minor": 0
}